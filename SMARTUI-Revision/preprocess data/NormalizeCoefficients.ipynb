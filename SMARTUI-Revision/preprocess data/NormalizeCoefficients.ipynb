{
 "cells": [
  {
   "cell_type": "code",
   "execution_count": 53,
   "metadata": {},
   "outputs": [],
   "source": [
    "import csv"
   ]
  },
  {
   "cell_type": "code",
   "execution_count": 82,
   "metadata": {},
   "outputs": [
    {
     "name": "stdout",
     "output_type": "stream",
     "text": [
      "25\n"
     ]
    }
   ],
   "source": [
    "feeding = []\n",
    "aspiration = []\n",
    "overall = []\n",
    "progression = []\n",
    "\n",
    "label = [\"age\",\"Gender Female\", \"Gender Male\", \"HPV -ve\", \"HPV +ve\", \"HPV Un\", \"N0\", \"N1\", \"N2\", \"N3\", \"neck_boost N\", \"neck_dissection Y\", \"pack_year\", \"smoke Current\", \"smoke Former\", \"smoke Never\", \"T1\", \"T2\", \"T3\", \"T4\", \"tumor_subsite BOT\", \"tumor_subsite Other\", \"tumor_subsite Tonsil\", \"white Other\", \"white White\"]\n",
    "with open('Risk_pred_model_coefficients_11_18.csv', 'r') as csvfile:\n",
    "    reader = csv.reader(csvfile, delimiter=',', quotechar='|')\n",
    "    next(reader) \n",
    "    for row in reader:\n",
    "        #print(row)\n",
    "        if row[1] == 'NA':\n",
    "            row[1] = '0'\n",
    "        if row[2] == 'NA':\n",
    "            row[2] = '0'\n",
    "        if row[3] == 'NA':\n",
    "            row[3] = '0'\n",
    "        if row[4] == 'NA':\n",
    "            row[4] = '0'\n",
    "            \n",
    "        feeding.append(float(row[1]))\n",
    "        aspiration.append(float(row[2]))\n",
    "        overall.append(float(row[3]))\n",
    "        progression.append(float(row[4]))\n",
    "        \n",
    "print(len(overall))\n",
    "\n",
    "# Multiplying for packs/year\n",
    "feeding[12] = feeding[12] * 120;\n",
    "aspiration[12] = aspiration[12] * 120;\n",
    "overall[12] = overall[12] * 120;\n",
    "progression[12] = progression[12] * 120;\n",
    "\n",
    "# Multiplying for age\n",
    "feeding[0] = feeding[0] * 70;\n",
    "aspiration[0] = aspiration[0] * 70;\n",
    "overall[0] = overall[0] * 70;\n",
    "progression[0] = progression[0] * 70;\n",
    "\n",
    "# Finding max of each column\n",
    "max_feeding = max(feeding)\n",
    "max_aspiration = max(aspiration)\n",
    "max_overall = max(overall)\n",
    "max_progression = max(progression)"
   ]
  },
  {
   "cell_type": "code",
   "execution_count": 83,
   "metadata": {},
   "outputs": [],
   "source": [
    "for i in range(len(overall)):\n",
    "    feeding[i] = feeding[i]/max_feeding\n",
    "    aspiration[i] = aspiration[i]/max_aspiration\n",
    "    overall[i] = overall[i]/max_overall\n",
    "    progression[i] = progression[i]/max_progression"
   ]
  },
  {
   "cell_type": "code",
   "execution_count": 84,
   "metadata": {},
   "outputs": [
    {
     "name": "stdout",
     "output_type": "stream",
     "text": [
      "age  :  1.0\n",
      "Gender Female  :  0.05813830178777082\n",
      "Gender Male  :  0.0\n",
      "HPV -ve  :  0.0\n",
      "HPV +ve  :  0.09022807105029441\n",
      "HPV Un  :  0.1892047921884677\n",
      "N0  :  0.0\n",
      "N1  :  0.3853454269926094\n",
      "N2  :  0.38603343283082653\n",
      "N3  :  0.37137264922719265\n",
      "neck_boost N  :  0.08451873806191385\n",
      "neck_dissection Y  :  0.14997595800372188\n",
      "pack_year  :  0.28592693708969363\n",
      "smoke Current  :  0.0930481965720099\n",
      "smoke Former  :  0.0\n",
      "smoke Never  :  0.05007888641477517\n",
      "T1  :  0.0\n",
      "T2  :  0.17881061003187823\n",
      "T3  :  0.3985705159999742\n",
      "T4  :  0.7484354889103755\n",
      "tumor_subsite BOT  :  0.1685813061963141\n",
      "tumor_subsite Other  :  0.17151156391902367\n",
      "tumor_subsite Tonsil  :  0.0\n",
      "white Other  :  0.14070841977521514\n",
      "white White  :  0.0\n"
     ]
    }
   ],
   "source": [
    "# Feeding\n",
    "for i in range(len(feeding)):\n",
    "    print(label[i],\" : \", feeding[i])"
   ]
  },
  {
   "cell_type": "code",
   "execution_count": 85,
   "metadata": {},
   "outputs": [
    {
     "name": "stdout",
     "output_type": "stream",
     "text": [
      "age  :  0.4922798005622618\n",
      "Gender Female  :  0.2259709968711811\n",
      "Gender Male  :  0.0\n",
      "HPV -ve  :  0.0\n",
      "HPV +ve  :  0.15610410529190272\n",
      "HPV Un  :  0.43138544373449705\n",
      "N0  :  0.0\n",
      "N1  :  0.355010742959442\n",
      "N2  :  0.2017554129167897\n",
      "N3  :  0.4774656957729392\n",
      "neck_boost N  :  0.2810666203297433\n",
      "neck_dissection Y  :  0.2818310873003763\n",
      "pack_year  :  0.26949616342023486\n",
      "smoke Current  :  0.08479124630566039\n",
      "smoke Former  :  0.0\n",
      "smoke Never  :  0.08796556721525524\n",
      "T1  :  0.0\n",
      "T2  :  0.4031977136448645\n",
      "T3  :  0.5659504144365484\n",
      "T4  :  1.0\n",
      "tumor_subsite BOT  :  0.012044373972197884\n",
      "tumor_subsite Other  :  0.3001447163634975\n",
      "tumor_subsite Tonsil  :  0.0\n",
      "white Other  :  0.0\n",
      "white White  :  0.12837294071131689\n"
     ]
    }
   ],
   "source": [
    "# Aspiration\n",
    "for i in range(len(aspiration)):\n",
    "    print(label[i],\" : \", aspiration[i])"
   ]
  },
  {
   "cell_type": "code",
   "execution_count": 86,
   "metadata": {},
   "outputs": [
    {
     "name": "stdout",
     "output_type": "stream",
     "text": [
      "age  :  1.0\n",
      "Gender Female  :  0.0\n",
      "Gender Male  :  0.301885068971231\n",
      "HPV -ve  :  0.16367967108043313\n",
      "HPV +ve  :  0.045376848401874115\n",
      "HPV Un  :  0.0\n",
      "N0  :  0.08109584315118483\n",
      "N1  :  0.015327458460050288\n",
      "N2  :  0.0\n",
      "N3  :  0.2881699890970091\n",
      "neck_boost N  :  0.10285095696733226\n",
      "neck_dissection Y  :  0.09351777898862372\n",
      "pack_year  :  0.1564968896938889\n",
      "smoke Current  :  0.3439322942933332\n",
      "smoke Former  :  0.11586598117046637\n",
      "smoke Never  :  0.0\n",
      "T1  :  0.6725901202140591\n",
      "T2  :  0.4903028716125771\n",
      "T3  :  0.39540502502433444\n",
      "T4  :  0.0\n",
      "tumor_subsite BOT  :  0.0\n",
      "tumor_subsite Other  :  0.04960880632568593\n",
      "tumor_subsite Tonsil  :  0.0877922841577691\n",
      "white Other  :  0.21593870733838963\n",
      "white White  :  0.0\n"
     ]
    }
   ],
   "source": [
    "# Overall\n",
    "for i in range(len(overall)):\n",
    "    print(label[i],\" : \", overall[i])"
   ]
  },
  {
   "cell_type": "code",
   "execution_count": 87,
   "metadata": {},
   "outputs": [
    {
     "name": "stdout",
     "output_type": "stream",
     "text": [
      "age  :  1.0\n",
      "Gender Female  :  0.0\n",
      "Gender Male  :  0.10158627979878944\n",
      "HPV -ve  :  0.45009925434210807\n",
      "HPV +ve  :  0.17631617368795802\n",
      "HPV Un  :  0.0\n",
      "N0  :  0.0\n",
      "N1  :  0.1708159958251699\n",
      "N2  :  0.11620819855600374\n",
      "N3  :  0.13130713855909043\n",
      "neck_boost N  :  0.15230146815301254\n",
      "neck_dissection Y  :  0.5267864562282926\n",
      "pack_year  :  -0.4592560311491816\n",
      "smoke Current  :  0.530726582429165\n",
      "smoke Former  :  0.25392963767569915\n",
      "smoke Never  :  0.0\n",
      "T1  :  0.43279868197934174\n",
      "T2  :  0.44763960956781135\n",
      "T3  :  0.3888594568476128\n",
      "T4  :  0.0\n",
      "tumor_subsite BOT  :  0.014196314486088869\n",
      "tumor_subsite Other  :  0.0\n",
      "tumor_subsite Tonsil  :  0.11303188965380369\n",
      "white Other  :  0.2703233820042\n",
      "white White  :  0.0\n"
     ]
    }
   ],
   "source": [
    "# Progression\n",
    "for i in range(len(progression)):\n",
    "    print(label[i],\" : \", progression[i])"
   ]
  },
  {
   "cell_type": "code",
   "execution_count": null,
   "metadata": {},
   "outputs": [],
   "source": []
  },
  {
   "cell_type": "code",
   "execution_count": null,
   "metadata": {},
   "outputs": [],
   "source": []
  }
 ],
 "metadata": {
  "kernelspec": {
   "display_name": "Python 3",
   "language": "python",
   "name": "python3"
  },
  "language_info": {
   "codemirror_mode": {
    "name": "ipython",
    "version": 3
   },
   "file_extension": ".py",
   "mimetype": "text/x-python",
   "name": "python",
   "nbconvert_exporter": "python",
   "pygments_lexer": "ipython3",
   "version": "3.7.0"
  }
 },
 "nbformat": 4,
 "nbformat_minor": 2
}
